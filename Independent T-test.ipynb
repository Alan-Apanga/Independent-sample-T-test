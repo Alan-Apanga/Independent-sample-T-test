{
 "cells": [
  {
   "cell_type": "markdown",
   "id": "82f5cb62",
   "metadata": {},
   "source": [
    "### INDEPENDENT T-TEST\n",
    "\n",
    "The indepentent T-test is a parametric test used to test for a statistically significant difference in the means between 2 groups. As with all parametric tests, there are certain conditions that need to be met in order for the test results to be considered reliable.\n",
    "\n",
    "Parametric test assumptions\n",
    "\n",
    "* Population distributions are normal\n",
    "* Samples have equal variances\n",
    "* The two samples are independent"
   ]
  },
  {
   "cell_type": "markdown",
   "id": "7dd80bd5",
   "metadata": {},
   "source": [
    "### HYPOTHESIS TESTING\n",
    "\n",
    "Determine whether women and men differ in their recommendation likeability."
   ]
  },
  {
   "cell_type": "code",
   "execution_count": 23,
   "id": "667764b5",
   "metadata": {},
   "outputs": [],
   "source": [
    "import pandas as pd\n",
    "import researchpy as rp\n",
    "import scipy.stats as stats\n",
    "import pyreadstat as py\n",
    "\n",
    "import matplotlib.pyplot as plt\n",
    "\n"
   ]
  },
  {
   "cell_type": "code",
   "execution_count": 40,
   "id": "62b25f98",
   "metadata": {},
   "outputs": [],
   "source": [
    "df, meta = py.read_sav('Oddjob Airways data set.sav')\n",
    "\n",
    "\n"
   ]
  },
  {
   "cell_type": "markdown",
   "id": "0fa467b2",
   "metadata": {},
   "source": [
    "### Recode variable Gender"
   ]
  },
  {
   "cell_type": "code",
   "execution_count": 33,
   "id": "ca988913",
   "metadata": {},
   "outputs": [
    {
     "name": "stdout",
     "output_type": "stream",
     "text": [
      "<class 'pandas.core.frame.DataFrame'>\n",
      "RangeIndex: 1065 entries, 0 to 1064\n",
      "Data columns (total 3 columns):\n",
      " #   Column    Non-Null Count  Dtype  \n",
      "---  ------    --------------  -----  \n",
      " 0   gender    1065 non-null   object \n",
      " 1   nflights  1065 non-null   float64\n",
      " 2   nps       1065 non-null   float64\n",
      "dtypes: float64(2), object(1)\n",
      "memory usage: 25.1+ KB\n"
     ]
    }
   ],
   "source": [
    "# filter unwanted columns\n",
    "df = df.loc[:,[\"gender\",\"nflights\", \"nps\"]] \n",
    "\n",
    "recode = {\"gender\":{1: \"Female\", 2: \"Male\"}}\n",
    "\n",
    "df = df.replace(recode)\n",
    "df.info()"
   ]
  },
  {
   "cell_type": "markdown",
   "id": "d0091160",
   "metadata": {},
   "source": [
    "### Data Processing\n",
    "Check for outliers"
   ]
  },
  {
   "cell_type": "code",
   "execution_count": 30,
   "id": "f906ab61",
   "metadata": {},
   "outputs": [
    {
     "data": {
      "text/plain": [
       "<matplotlib.collections.PathCollection at 0x2f236e01d80>"
      ]
     },
     "execution_count": 30,
     "metadata": {},
     "output_type": "execute_result"
    },
    {
     "data": {
      "image/png": "[encoded data removed]",
      "text/plain": [
       "<Figure size 648x216 with 2 Axes>"
      ]
     },
     "metadata": {
      "needs_background": "light"
     },
     "output_type": "display_data"
    }
   ],
   "source": [
    "fig, axs = plt.subplots(1, 2, figsize=(9, 3), sharey=True)\n",
    "axs[0].bar(df.gender, df.nflights)\n",
    "axs[1].scatter(df.gender, df.nflights)\n"
   ]
  },
  {
   "cell_type": "markdown",
   "id": "e0a2440a",
   "metadata": {},
   "source": [
    "### Filter outlier"
   ]
  },
  {
   "cell_type": "code",
   "execution_count": 35,
   "id": "8dcd7076",
   "metadata": {},
   "outputs": [
    {
     "name": "stdout",
     "output_type": "stream",
     "text": [
      "<class 'pandas.core.frame.DataFrame'>\n",
      "Int64Index: 1064 entries, 0 to 1064\n",
      "Data columns (total 3 columns):\n",
      " #   Column    Non-Null Count  Dtype  \n",
      "---  ------    --------------  -----  \n",
      " 0   gender    1064 non-null   object \n",
      " 1   nflights  1064 non-null   float64\n",
      " 2   nps       1064 non-null   float64\n",
      "dtypes: float64(2), object(1)\n",
      "memory usage: 33.2+ KB\n"
     ]
    }
   ],
   "source": [
    "df = df.loc[df['nflights'] < 300]\n",
    "\n",
    "# only one point filtered\n",
    "df['gender'].value_counts()\n",
    "df.info()\n",
    "\n"
   ]
  },
  {
   "cell_type": "markdown",
   "id": "e22809f3",
   "metadata": {},
   "source": [
    "### INDEPDENT T-TEST USING RESEARCHPY\n",
    "\n",
    "The method returns 2 data frames, one that contains the summary statistical information and the other that contains the statistical test information."
   ]
  },
  {
   "cell_type": "code",
   "execution_count": 6,
   "id": "c2c3055f",
   "metadata": {},
   "outputs": [
    {
     "name": "stderr",
     "output_type": "stream",
     "text": [
      "C:\\Users\\Toshiba\\anaconda3\\envs\\geo_env\\lib\\site-packages\\researchpy\\ttest.py:18: FutureWarning: The series.append method is deprecated and will be removed from pandas in a future version. Use pandas.concat instead.\n",
      "  groups = group1.append(group2, ignore_index= True)\n"
     ]
    },
    {
     "data": {
      "text/plain": [
       "(   Variable       N      Mean        SD        SE  95% Conf.  Interval\n",
       " 0      Male   784.0  8.196429  2.538528  0.090662   8.018460  8.374397\n",
       " 1    Female   280.0  8.550000  2.401687  0.143528   8.267464  8.832536\n",
       " 2  combined  1064.0  8.289474  2.506969  0.076856   8.138667  8.440281,\n",
       "               Independent t-test    results\n",
       " 0  Difference (Male - Female) =     -0.3536\n",
       " 1          Degrees of freedom =   1062.0000\n",
       " 2                           t =     -2.0288\n",
       " 3       Two side test p value =      0.0427\n",
       " 4      Difference < 0 p value =      0.0214\n",
       " 5      Difference > 0 p value =      0.9786\n",
       " 6                   Cohen's d =     -0.1412\n",
       " 7                   Hedge's g =     -0.1411\n",
       " 8               Glass's delta =     -0.1393\n",
       " 9                 Pearson's r =      0.0621)"
      ]
     },
     "execution_count": 6,
     "metadata": {},
     "output_type": "execute_result"
    }
   ],
   "source": [
    "rp.ttest(group1= df['nps'][df['gender'] == 'Male'], group1_name=\"Male\",\n",
    "         group2= df['nps'][df['gender'] == 'Female'], group2_name=\"Female\")"
   ]
  },
  {
   "cell_type": "markdown",
   "id": "8a44c7d3",
   "metadata": {},
   "source": [
    "### Interpretation\n",
    "The average likeability recommendation for Women, W = 8.55 (CI=[8.27, 8.83]) significantly \n",
    "differ than the males, M = 8.20 (CI=8.02, 8.37): t(1063)= 2.029 and p=0.043.\n",
    "    \n",
    "Women($mean_{1}=8.55$) are therefore significantly more likey to recommend Oddjob Airways than men($mean_{2}=8.20$)"
   ]
  },
  {
   "cell_type": "markdown",
   "id": "85cdc6bf",
   "metadata": {},
   "source": [
    "### ASSUMPTION CHECK\n",
    "The assumptions in this section need to be met in order for the test results to be considered valid. \n",
    "A more in-depth look at parametric assumptions is provided here,which includes some potential remedies.\n",
    "\n",
    "### THE TWO SAMPLES ARE INDEPENDENT\n",
    "This assumption is tested when the study is designed. \n",
    "What this means is that no individual has data in group A and B (i.e no reapeated observations).\n",
    "\n",
    "### POPULATION DISTRIBUTIONS ARE NORMAL\n",
    "One method of visually checking the distribution is to use a probability plot with or without the correlation value, \n",
    "$R^{2}$, to assess the observed values correlation with the theoretical distribution in question - \n",
    "in the current case it would be the Gaussian (a.k.a the normal) distribution. \n",
    "\n",
    "### HOMOGENEITY OF VARIANCE\n",
    "One of the assumptions is that both groups have equal variances. \n",
    "One method for testing this assumption is the Levene's test of homogeneity of variances"
   ]
  },
  {
   "cell_type": "code",
   "execution_count": 7,
   "id": "942aa558",
   "metadata": {},
   "outputs": [
    {
     "data": {
      "text/plain": [
       "LeveneResult(statistic=0.5304410893148348, pvalue=0.4665820315895317)"
      ]
     },
     "execution_count": 7,
     "metadata": {},
     "output_type": "execute_result"
    }
   ],
   "source": [
    "stats.levene(df['nps'][df['gender'] == 'Female'],\n",
    "             df['nps'][df['gender'] == 'Male'],\n",
    "             center='mean')\n",
    "                      \n",
    "\n"
   ]
  },
  {
   "cell_type": "markdown",
   "id": "1e00b6fa",
   "metadata": {},
   "source": [
    "The test is insignificant(p=0.467).Therefore we cannot reject the Levene's test and can assume the variances of male and female are equally distributed.\n",
    "No effect to these groups with the variances, hence we can stick to the independent sample t-test."
   ]
  },
  {
   "cell_type": "code",
   "execution_count": 17,
   "id": "f81d86bd",
   "metadata": {},
   "outputs": [
    {
     "data": {
      "image/png": "[encoded data removed]",
      "text/plain": [
       "<Figure size 1440x720 with 1 Axes>"
      ]
     },
     "metadata": {
      "needs_background": "light"
     },
     "output_type": "display_data"
    }
   ],
   "source": [
    "fig = plt.figure(figsize=(20, 10))\n",
    "ax = fig.add_subplot(111)\n",
    "\n",
    "nps_female = plt.hist(df['nps'][df['gender'] == 'Female'], label=\"Female\",\n",
    "                    density=True,\n",
    "                    alpha=0.75)\n",
    "nps_male = plt.hist(df['nps'][df['gender'] == 'Male'], label=\"Male\",\n",
    "                    density=True,\n",
    "                    alpha=0.75)\n",
    "\n",
    "plt.suptitle(\"Distribution of Net Promoter Score (nps) \\n between Males and Females\", fontsize= 20)\n",
    "plt.xlabel(\"Net Promoter Score (nps)\", fontsize=16)\n",
    "plt.ylabel(\"Probability Density\", fontsize=16)\n",
    "\n",
    "plt.text(6.1, .09,\n",
    "         f\"$\\mu= {df['nps'][df['gender'] == 'Female'].mean(): .1f}, \\ \\sigma= {df['nps'][df['gender'] == 'Female'].std(): .1f}$\")\n",
    "plt.text(9, .05,\n",
    "         f\"$\\mu= {df['nps'][df['gender'] == 'Male'].mean(): .1f}, \\ \\sigma= {df['nps'][df['gender'] == 'Male'].std(): .1f}$\")\n",
    "\n",
    "plt.show()"
   ]
  }
 ],
 "metadata": {
  "kernelspec": {
   "display_name": "geo_env",
   "language": "python",
   "name": "geo_env"
  },
  "language_info": {
   "codemirror_mode": {
    "name": "ipython",
    "version": 3
   },
   "file_extension": ".py",
   "mimetype": "text/x-python",
   "name": "python",
   "nbconvert_exporter": "python",
   "pygments_lexer": "ipython3",
   "version": "3.10.5"
  }
 },
 "nbformat": 4,
 "nbformat_minor": 5
}
